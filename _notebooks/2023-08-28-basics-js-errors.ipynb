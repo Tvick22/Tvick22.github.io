{
 "cells": [
  {
   "cell_type": "markdown",
   "metadata": {},
   "source": [
    "---\n",
    "layout: post\n",
    "title: 1.4 Correcting errors\n",
    "description: Practice with identifying and correcting code blocks\n",
    "type: ccc\n",
    "author: Safin Singh and Rohan Juneja\n",
    "permalink: /basics/js-debug\n",
    "hide: True\n",
    "---"
   ]
  },
  {
   "cell_type": "markdown",
   "metadata": {},
   "source": [
    "{% include nav_basics.html %}"
   ]
  },
  {
   "cell_type": "markdown",
   "metadata": {},
   "source": [
    "[College Board Big Idea 1](https://apclassroom.collegeboard.org/103/home?unit=1)\n",
    "\n",
    "## Identifying and Correcting Errors (Unit 1.4)\n",
    "\n",
    "> Become familiar with types of errors and strategies for fixing them\n",
    "\n",
    "- Review CollegeBoard videos and take notes on blog\n",
    "- Complete assigned MCQ questions if applicable"
   ]
  },
  {
   "cell_type": "markdown",
   "metadata": {},
   "source": [
    "# Code Segments\n",
    "\n",
    "Practice fixing the following code segments!"
   ]
  },
  {
   "cell_type": "markdown",
   "metadata": {},
   "source": [
    "## Segment 1: Alphabet List\n",
    "\n",
    "Intended behavior: create a list of characters from the string contained in the variable `alphabet`\n",
    "\n",
    "### Code:"
   ]
  },
  {
   "cell_type": "code",
   "execution_count": 3,
   "metadata": {
    "vscode": {
     "languageId": "javascript"
    }
   },
   "outputs": [
    {
     "data": {
      "application/javascript": "\nconst alphabet = \"abcdefghijklmnopqrstuvwxyz\";\nconst alphabetList = [];\n\nfor (let i = 0; i < alphabet.length; i++) {\n\talphabetList.push(alphabet[i]);\n}\n\nconsole.log(alphabetList);\n",
      "text/plain": [
       "<IPython.core.display.Javascript object>"
      ]
     },
     "metadata": {},
     "output_type": "display_data"
    }
   ],
   "source": [
    "%%js\n",
    "\n",
    "const alphabet = \"abcdefghijklmnopqrstuvwxyz\";\n",
    "const alphabetList = [];\n",
    "\n",
    "for (let i = 0; i < alphabet.length; i++) {\n",
    "\talphabetList.push(alphabet[i]);\n",
    "}\n",
    "\n",
    "console.log(alphabetList);"
   ]
  },
  {
   "cell_type": "markdown",
   "metadata": {},
   "source": [
    "### What I Changed\n",
    "\n",
    "I changed...\n",
    "- top 2 declarations to **const** instead of **var**\n",
    "- **var i =** in the for loop to **let i =**\n",
    "- instead of waiting until **i < 10**, I made it iterate the entire string\n",
    "- instead of pushing the iteration number (**i**), I pushed the letter of alphabet at the specified iteration (**alphabet[i]**)"
   ]
  },
  {
   "cell_type": "markdown",
   "metadata": {},
   "source": [
    "## Segment 2: Numbered Alphabet\n",
    "\n",
    "Intended behavior: print the number of a given alphabet letter within the alphabet. For example:\n",
    "```\n",
    "\"_\" is letter number _ in the alphabet\n",
    "```\n",
    "\n",
    "Where the underscores (_) are replaced with the letter and the position of that letter within the alphabet (e.g. a=1, b=2, etc.)\n",
    "\n",
    "### Code:"
   ]
  },
  {
   "cell_type": "code",
   "execution_count": 11,
   "metadata": {
    "vscode": {
     "languageId": "javascript"
    }
   },
   "outputs": [
    {
     "data": {
      "application/javascript": "\n// Copy your previous code to built alphabetList here\nconst alphabet = \"abcdefghijklmnopqrstuvwxyz\";\nconst alphabetList = [];\n\nfor (let i = 0; i < alphabet.length; i++) {\n\talphabetList.push(alphabet[i]);\n}\n\nlet letterNumber = 5\n\nconsole.log(`${alphabetList[letterNumber-1]} is letter number ${letterNumber} in the alphabet`)\n\n// Should output:\n// \"e\" is letter number 5 in the alphabet\n",
      "text/plain": [
       "<IPython.core.display.Javascript object>"
      ]
     },
     "metadata": {},
     "output_type": "display_data"
    }
   ],
   "source": [
    "%%js\n",
    "\n",
    "// Copy your previous code to built alphabetList here\n",
    "const alphabet = \"abcdefghijklmnopqrstuvwxyz\";\n",
    "const alphabetList = [];\n",
    "\n",
    "for (let i = 0; i < alphabet.length; i++) {\n",
    "\talphabetList.push(alphabet[i]);\n",
    "}\n",
    "\n",
    "let letterNumber = 5\n",
    "\n",
    "console.log(`${alphabetList[letterNumber-1]} is letter number ${letterNumber} in the alphabet`)\n",
    "\n",
    "// Should output:\n",
    "// \"e\" is letter number 5 in the alphabet"
   ]
  },
  {
   "cell_type": "markdown",
   "metadata": {},
   "source": [
    "### What I Changed\n",
    "\n",
    "I changed...\n",
    "- the **var i =** to **let i =**\n",
    "- removed the for loop that tried to loop the entire array to find an index\n",
    "- logged a template literal (using the backtick `)\n",
    "    - I found the letter using the [ ] operator with the **letterNumber - 1** inside because iterating an array starts with 0 not 1"
   ]
  },
  {
   "cell_type": "markdown",
   "metadata": {},
   "source": [
    "## Segment 3: Odd Numbers\n",
    "\n",
    "Intended behavior: print a list of all the odd numbers below 10\n",
    "\n",
    "### Code:"
   ]
  },
  {
   "cell_type": "code",
   "execution_count": 19,
   "metadata": {
    "vscode": {
     "languageId": "javascript"
    }
   },
   "outputs": [
    {
     "data": {
      "application/javascript": "\nconst odds = [];\n// let i = 0;\n\n// while (i <= 10) {\n//   evens.push(i);\n//   i += 2;\n// }\nfor (let i = 0; i <= 10; i++) {\n  if (i % 2 == 0) {\n    continue;\n  }\n  odds.push(i)\n}\n\nconsole.log(odds);\n",
      "text/plain": [
       "<IPython.core.display.Javascript object>"
      ]
     },
     "metadata": {},
     "output_type": "display_data"
    }
   ],
   "source": [
    "%%js\n",
    "\n",
    "const odds = [];\n",
    "// let i = 0;\n",
    "\n",
    "// while (i <= 10) {\n",
    "//   evens.push(i);\n",
    "//   i += 2;\n",
    "// }\n",
    "for (let i = 0; i <= 10; i++) {\n",
    "  if (i % 2 == 0) {\n",
    "    continue;\n",
    "  }\n",
    "  odds.push(i)\n",
    "}\n",
    "\n",
    "console.log(odds);"
   ]
  },
  {
   "cell_type": "markdown",
   "metadata": {},
   "source": [
    "### What I Changed\n",
    "\n",
    "I changed...\n",
    "- **let evens =** to **const oods =**\n",
    "- Commented out the **let i =** and the **while loop**\n",
    "    - The while loop would make it much more complicated because you would need to keep a i variable outside of it, while a for loop would have the i variable more easily acessable\n",
    "- Made a **for loop** that checks if the number is even (if so the loop continues/ goes to the next number). If the number is not even, it will add it to the odds array using **odds.push()**\n",
    "    - I used **(i % 2 == 0)** to check if the number is even/ or evenly divisible by 2."
   ]
  },
  {
   "cell_type": "markdown",
   "metadata": {},
   "source": [
    "# BELOW NOT EDITED"
   ]
  },
  {
   "cell_type": "markdown",
   "metadata": {},
   "source": [
    "The intended outcome is printing a number between 1 and 100 once, if it is a multiple of 2 or 5 \n",
    "- What values are outputted incorrectly. Why?\n",
    "- Make changes to get the intended outcome."
   ]
  },
  {
   "cell_type": "code",
   "execution_count": 22,
   "metadata": {
    "vscode": {
     "languageId": "javascript"
    }
   },
   "outputs": [
    {
     "data": {
      "application/javascript": "\nconst numbers = []\nconst newNumbers = []\nlet i = 0\n\nwhile (i < 100) {\n    numbers.push(i)\n    i += 1\n}\nfor (let i of numbers) {\n    if (numbers[i] % 5 === 0){\n        newNumbers.push(numbers[i]);\n        continue;\n    }\n    if (numbers[i] % 2 === 0){\n        newNumbers.push(numbers[i]);\n        continue;\n    }\n}\nconsole.log(newNumbers) \n\n",
      "text/plain": [
       "<IPython.core.display.Javascript object>"
      ]
     },
     "metadata": {},
     "output_type": "display_data"
    }
   ],
   "source": [
    "%%js\n",
    "\n",
    "const numbers = []\n",
    "const newNumbers = []\n",
    "let i = 0\n",
    "\n",
    "while (i < 100) {\n",
    "    numbers.push(i)\n",
    "    i += 1\n",
    "}\n",
    "for (let i of numbers) {\n",
    "    if (numbers[i] % 5 === 0){\n",
    "        newNumbers.push(numbers[i]);\n",
    "        continue;\n",
    "    }\n",
    "    if (numbers[i] % 2 === 0){\n",
    "        newNumbers.push(numbers[i]);\n",
    "        continue;\n",
    "    }\n",
    "}\n",
    "console.log(newNumbers) \n",
    "\n"
   ]
  },
  {
   "cell_type": "markdown",
   "metadata": {},
   "source": [
    "### What I Changed\n",
    "\n",
    "I changed...\n",
    "- The problem with this was that it would push numbers twice if they are divisible by both 2 and 5. For example 10 is divisible by 2 and by 5, so it would appear in the array 2 times.\n",
    "- To fix it, I added the **continue;** statement so that if the number fits at least 1 of the catagories, it would add it to the array, and move on to the next number.\n",
    "- Another fix would be to combine the if statements, so it checks if it is divisible by 5 **OR** if it is divisible by 2. You can achieve this by writing **if (numbers[i] % 5 === 0 || numbers[i] % 2 === 0)**."
   ]
  },
  {
   "cell_type": "markdown",
   "metadata": {},
   "source": [
    "# Challenge\n",
    "\n",
    "This code segment is at a very early stage of implementation.\n",
    "- What are some ways to (user) error proof this code?\n",
    "- The code should be able to calculate the cost of the meal of the user\n",
    "\n",
    "Hint:\n",
    "- write a “single” test describing an expectation of the program of the program\n",
    "- test - input burger, expect output of burger price\n",
    "- run the test, which should fail because the program lacks that feature\n",
    "- write “just enough” code, the simplest possible, to make the test pass\n",
    "\n",
    "Then repeat this process until you get program working like you want it to work."
   ]
  },
  {
   "cell_type": "code",
   "execution_count": 83,
   "metadata": {
    "vscode": {
     "languageId": "javascript"
    }
   },
   "outputs": [
    {
     "data": {
      "application/javascript": "\nconst menu =  {\n    \"burger\": 3.99,\n    \"fries\": 1.99,\n    \"drink\": 0.99\n    }\n\n//shows the user the menu and prompts them to select an item\nconsole.log(\"Menu\")\nfor (let item in menu) {\n    console.log(item + \":  $\" + menu[item].toFixed(2)) //why is toFixed used?\n}\n//ideally the code should support mutliple items\n// let items = [\"burger\", \"fries\"]\n\n//code should add the price of the menu items selected by the user \nfunction findTotal (items) {\n    let runningTotal = 0;\n    items.map((item) => {\n        if (!Object.keys(menu).includes(item)) {\n            console.warn(`menu does not contain ${item}`);\n        }\n        runningTotal += menu[item]\n    })\n    return isNaN(runningTotal) ?  new Error('Menu has invalid item(s)'): Number(runningTotal.toFixed(2))\n}\n\nfunction testFindTotal (items, expectedOutput) {\n    const output = findTotal(items)\n    if (output !== expectedOutput) {\n        throw new Error(`Test Failed: did not return expected output. Returned $${output} instead of $${expectedOutput}.`)\n    } else {\n        console.log(\"Test Passed\")\n    }\n}\n\nconsole.log(\"\")\nconsole.log(\"--Tests--\")\nconsole.log(\"ALL MENU ITEMS:\")\ntestFindTotal([\"burger\", \"fries\", \"drink\"], 6.97)\nconsole.log(\"ALL 'BURGER':\")\ntestFindTotal([\"burger\", \"burger\", \"burger\"], 11.97)\nconsole.log(\"ITEM THAT IS NOT ON THE MENU:\")\nfindTotal([\"waffle\", \"burger\", \"fries\"])\n\n",
      "text/plain": [
       "<IPython.core.display.Javascript object>"
      ]
     },
     "metadata": {},
     "output_type": "display_data"
    }
   ],
   "source": [
    "%%js\n",
    "\n",
    "const menu =  {\n",
    "    \"burger\": 3.99,\n",
    "    \"fries\": 1.99,\n",
    "    \"drink\": 0.99\n",
    "    }\n",
    "\n",
    "//shows the user the menu and prompts them to select an item\n",
    "console.log(\"Menu\")\n",
    "for (let item in menu) {\n",
    "    console.log(item + \":  $\" + menu[item].toFixed(2)) //why is toFixed used?\n",
    "}\n",
    "//ideally the code should support mutliple items\n",
    "// let items = [\"burger\", \"fries\"]\n",
    "\n",
    "//code should add the price of the menu items selected by the user \n",
    "function findTotal (items) {\n",
    "    let runningTotal = 0;\n",
    "    items.map((item) => {\n",
    "        if (!Object.keys(menu).includes(item)) {\n",
    "            console.warn(`menu does not contain ${item}`);\n",
    "        }\n",
    "        runningTotal += menu[item]\n",
    "    })\n",
    "    return isNaN(runningTotal) ?  new Error('Menu has invalid item(s)'): Number(runningTotal.toFixed(2))\n",
    "}\n",
    "\n",
    "function testFindTotal (items, expectedOutput) {\n",
    "    const output = findTotal(items)\n",
    "    if (output !== expectedOutput) {\n",
    "        throw new Error(`Test Failed: did not return expected output. Returned $${output} instead of $${expectedOutput}.`)\n",
    "    } else {\n",
    "        console.log(\"Test Passed\")\n",
    "    }\n",
    "}\n",
    "\n",
    "console.log(\"\")\n",
    "console.log(\"--Tests--\")\n",
    "console.log(\"ALL MENU ITEMS:\")\n",
    "testFindTotal([\"burger\", \"fries\", \"drink\"], 6.97)\n",
    "console.log(\"ALL 'BURGER':\")\n",
    "testFindTotal([\"burger\", \"burger\", \"burger\"], 11.97)\n",
    "console.log(\"ITEM THAT IS NOT ON THE MENU:\")\n",
    "findTotal([\"waffle\", \"burger\", \"fries\"])\n",
    "\n"
   ]
  },
  {
   "cell_type": "markdown",
   "metadata": {},
   "source": [
    "## Hacks\n",
    "- Fix the errors in the first three segments in this notebook and say what you changed in the code cell under \"What I Changed\" (Challenge is optional)"
   ]
  }
 ],
 "metadata": {
  "kernelspec": {
   "display_name": "Python 3.10.6 64-bit",
   "language": "python",
   "name": "python3"
  },
  "language_info": {
   "codemirror_mode": {
    "name": "ipython",
    "version": 3
   },
   "file_extension": ".py",
   "mimetype": "text/x-python",
   "name": "python",
   "nbconvert_exporter": "python",
   "pygments_lexer": "ipython3",
   "version": "3.11.4"
  },
  "orig_nbformat": 4,
  "vscode": {
   "interpreter": {
    "hash": "aee8b7b246df8f9039afb4144a1f6fd8d2ca17a180786b69acc140d282b71a49"
   }
  }
 },
 "nbformat": 4,
 "nbformat_minor": 2
}
